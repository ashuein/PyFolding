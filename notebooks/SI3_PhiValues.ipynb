{
 "cells": [
  {
   "cell_type": "markdown",
   "metadata": {
    "deletable": true,
    "editable": true
   },
   "source": [
    "# PyFolding SI Notebook 3\n",
    "---\n",
    "\n",
    "[Author] ERGM\n",
    "\n",
    "---\n",
    "\n",
    "\n",
    "## Performing and automating higher-level calculations such as &#916;Gs & Phi-value analysis \n",
    "\n",
    "In this notebook we will show how imported and fitted equilbrium and kinetic folding data (as per PyFolding SI Notebooks 1 and 2) can be associated with a particular protein (say WT or a mutant).  This enables higher higher-level calculations such as &#916;Gs & Phi-value analysis to be achieved (also shown here).\n",
    "\n",
    "If you are less script/computer orientated, you can simply change the data paths/variables, etc for your proteins and re-run the jupyter notebook ( \"Kernal/Restart & Run all\" from the menu above).\n",
    "\n",
    "---\n",
    "\n",
    "### Data Format\n",
    "\n",
    "Please see PyFolding SI Notebooks 1 and 2 for the format your data has to be in to enable this type of analysis.\n",
    "\n",
    "---"
   ]
  },
  {
   "cell_type": "code",
   "execution_count": 1,
   "metadata": {
    "collapsed": false,
    "deletable": true,
    "editable": true
   },
   "outputs": [
    {
     "data": {
      "application/javascript": [
       "\n",
       "\tIPython.OutputArea.prototype._should_scroll = function(lines) {\n",
       "\t    return false;\n",
       "\t}\n",
       "\t"
      ],
      "text/plain": [
       "<IPython.core.display.Javascript object>"
      ]
     },
     "metadata": {},
     "output_type": "display_data"
    },
    {
     "name": "stdout",
     "output_type": "stream",
     "text": [
      "PyFolding: Jupyter autoscrolling has been disabled\n"
     ]
    }
   ],
   "source": [
    "#  First off lets load pyfolding & pyplot into this ipython notebook \n",
    "#(pyplot allows us to plot more complex figures of our results):\n",
    "\n",
    "%matplotlib inline\n",
    "\n",
    "# import pyfolding, the pyfolding models and ising models\n",
    "import pyfolding\n",
    "from pyfolding import *\n",
    "\n",
    "# import the package for plotting, call it plt\n",
    "import matplotlib.pyplot as plt\n",
    "\n",
    "# import numpy as well\n",
    "import numpy as np"
   ]
  },
  {
   "cell_type": "markdown",
   "metadata": {
    "deletable": true,
    "editable": true
   },
   "source": [
    "---\n",
    "\n",
    "#### Now, we need to load some data to analyse.\n",
    "\n",
    "In this notebook I will be using data that I have digitized from the papers below:\n",
    "\n",
    "```\n",
    "Folding of chymotrypsin inhibitor 2. 1. Evidence for a two-state transition.\n",
    "Jackson, S. E. & Fersht, A. R.\n",
    "Biochemistry 30, 10428–10435 (1991).\n",
    "\n",
    "Structure of the hydrophobic core in the transition state for folding of chymotrypsin inhibitor 2: a critical test of the protein engineering method of analysis.\n",
    "Jackson, S. E., elMasry, N. & Fersht, A. R.\n",
    "Biochemistry 32, 11270–11278 (1993).\n",
    "\n",
    "\n",
    "```\n",
    "[http://pubs.acs.org/doi/abs/10.1021/bi00107a010 & http://pubs.acs.org/doi/abs/10.1021/bi00093a002]"
   ]
  },
  {
   "cell_type": "code",
   "execution_count": 2,
   "metadata": {
    "collapsed": false,
    "deletable": true,
    "editable": true
   },
   "outputs": [],
   "source": [
    "# start by loading a data set\n",
    "# arguments are \"path\", \"filename\"\n",
    "# We will do Equilm and Kinetics all together\n",
    "\n",
    "pth = \"../examples/CI2/\"\n",
    "\n",
    "#load CI2 WT equilm and kinetics\n",
    "EquilmWT_CI2 = pyfolding.read_equilibrium_data(pth,\"CI2_WT_Equilm.csv\")\n",
    "KineticsWT_CI2 = pyfolding.read_kinetic_data(pth,\"CI2_WT_Kinetics.csv\")\n",
    "\n",
    "# load CI2 Mutant VA38\n",
    "EquilmVA38_CI2 = pyfolding.read_equilibrium_data(pth,\"CI2_VA38_Equilm.csv\")\n",
    "KineticsVA38_CI2 = pyfolding.read_kinetic_data(pth,\"CI2_VA38_Kinetics.csv\")\n",
    "\n",
    "\n",
    "# load CI2 Mutant VA66\n",
    "EquilmVA66_CI2 = pyfolding.read_equilibrium_data(pth,\"CI2_VA66_Equilm.csv\")\n",
    "KineticsVA66_CI2 = pyfolding.read_kinetic_data(pth,\"CI2_VA66_Kinetics.csv\")\n",
    "\n",
    "\n",
    "# load CI2 Mutant IV48\n",
    "EquilmIV48_CI2 = pyfolding.read_equilibrium_data(pth,\"CI2_IV48_Equilm.csv\")\n",
    "KineticsIV48_CI2 = pyfolding.read_kinetic_data(pth,\"CI2_IV48_Kinetics.csv\")\n"
   ]
  },
  {
   "cell_type": "markdown",
   "metadata": {
    "deletable": true,
    "editable": true
   },
   "source": [
    "---\n",
    "\n",
    "### OK, to perform and automate higher-level calculations such as &#916;Gs & Phi-value analysis\n",
    "\n",
    "1st we need to assign data to a specific protein by making a \"protein object\" \n"
   ]
  },
  {
   "cell_type": "code",
   "execution_count": 3,
   "metadata": {
    "collapsed": true,
    "deletable": true,
    "editable": true
   },
   "outputs": [],
   "source": [
    "#assign WT\n",
    "WT = pyfolding.Protein(ID=\"CI2_WT\")         # creating CI2_WT protein object \n",
    "WT.equilibrium = EquilmWT_CI2               # assigning equilm data to the CI2_WT protein object\n",
    "WT.chevron = KineticsWT_CI2                 # assigning kinetic data to the CI2_WT protein object\n",
    "\n",
    "#assign VA38\n",
    "VA38 = pyfolding.Protein(ID=\"CI2_VA38\")     # creating CI2_WT protein object \n",
    "VA38.equilibrium = EquilmVA38_CI2           # assigning equilm data to the CI2_WT protein object\n",
    "VA38.chevron = KineticsVA38_CI2             # assigning kinetic data to the CI2_WT protein object\n",
    "\n",
    "#assign VA66\n",
    "VA66 = pyfolding.Protein(ID=\"CI2_VA66\")     # creating CI2_WT protein object \n",
    "VA66.equilibrium = EquilmVA66_CI2           # assigning equilm data to the CI2_WT protein object\n",
    "VA66.chevron = KineticsVA66_CI2             # assigning kinetic data to the CI2_WT protein object\n",
    "\n",
    "#assign IV48\n",
    "IV48 = pyfolding.Protein(ID=\"CI2_IV48\")     # creating CI2_WT protein object \n",
    "IV48.equilibrium = EquilmIV48_CI2           # assigning equilm data to the CI2_WT protein object\n",
    "IV48.chevron = KineticsIV48_CI2             # assigning kinetic data to the CI2_WT protein object\n",
    "\n",
    "# lets put these in a python list for later on!\n",
    "Proteins = [WT, \n",
    "            VA38, \n",
    "            VA66, \n",
    "            IV48]\n"
   ]
  },
  {
   "cell_type": "code",
   "execution_count": 4,
   "metadata": {
    "collapsed": true,
    "deletable": true,
    "editable": true
   },
   "outputs": [],
   "source": [
    "# make a python list of the data so we can fit data together and check everything loaded correctly\n",
    "Equilm_curves = [EquilmWT_CI2, \n",
    "                 EquilmVA38_CI2,\n",
    "                 EquilmVA66_CI2,\n",
    "                 EquilmIV48_CI2]\n",
    "\n",
    "Kinetic_chevrons = [KineticsWT_CI2, \n",
    "                    KineticsVA38_CI2, \n",
    "                    KineticsVA66_CI2,\n",
    "                    KineticsIV48_CI2]"
   ]
  },
  {
   "cell_type": "markdown",
   "metadata": {
    "deletable": true,
    "editable": true
   },
   "source": [
    "---\n",
    "\n",
    "### Now we need to fit the data.  \n",
    "In a similar manner to previous notebooks, we can save time by getting PyFolding to automate the fitting all our data to the model we want:\n"
   ]
  },
  {
   "cell_type": "code",
   "execution_count": 5,
   "metadata": {
    "collapsed": false,
    "deletable": true,
    "editable": true
   },
   "outputs": [
    {
     "name": "stdout",
     "output_type": "stream",
     "text": [
      "Set temperature to 25.00°C\n",
      "(NOTE: Careful, this sets the temperature for all subsequent calculations)\n",
      "================================================================================\n",
      "Fitting results\n",
      "================================================================================\n",
      "ID: CI2_WT_Equilm\n",
      "Model: TwoStateEquilibrium\n",
      "Optimiser: pyfolding.GlobalFit and scipy.optimize.curve_fit\n",
      "Temperature: 25.00°C\n",
      "\n",
      "(f) m      1.86581 ± 0.02435    \t 95% CI[   1.85972,    1.87191]\n",
      "(f) d50    3.98689 ± 0.00426    \t 95% CI[   3.98583,    3.98796]\n",
      "--------------------------------------------------------------------------------\n",
      "R^2: 0.99809\n",
      "================================================================================\n",
      "\n",
      "\n",
      "================================================================================\n",
      "Fitting results\n",
      "================================================================================\n",
      "ID: CI2_VA38_Equilm\n",
      "Model: TwoStateEquilibrium\n",
      "Optimiser: pyfolding.GlobalFit and scipy.optimize.curve_fit\n",
      "Temperature: 25.00°C\n",
      "\n",
      "(f) m      2.00158 ± 0.03336    \t 95% CI[   1.99324,    2.00992]\n",
      "(f) d50    3.74752 ± 0.00514    \t 95% CI[   3.74624,    3.74881]\n",
      "--------------------------------------------------------------------------------\n",
      "R^2: 0.99720\n",
      "================================================================================\n",
      "\n",
      "\n",
      "================================================================================\n",
      "Fitting results\n",
      "================================================================================\n",
      "ID: CI2_VA66_Equilm\n",
      "Model: TwoStateEquilibrium\n",
      "Optimiser: pyfolding.GlobalFit and scipy.optimize.curve_fit\n",
      "Temperature: 25.00°C\n",
      "\n",
      "(f) m      1.74742 ± 0.04776    \t 95% CI[   1.73550,    1.75934]\n",
      "(f) d50    1.45999 ± 0.01044    \t 95% CI[   1.45738,    1.46260]\n",
      "--------------------------------------------------------------------------------\n",
      "R^2: 0.99391\n",
      "================================================================================\n",
      "\n",
      "\n",
      "================================================================================\n",
      "Fitting results\n",
      "================================================================================\n",
      "ID: CI2_IV48_Equilm\n",
      "Model: TwoStateEquilibrium\n",
      "Optimiser: pyfolding.GlobalFit and scipy.optimize.curve_fit\n",
      "Temperature: 25.00°C\n",
      "\n",
      "(f) m      1.96731 ± 0.04260    \t 95% CI[   1.95665,    1.97798]\n",
      "(f) d50    3.40891 ± 0.00670    \t 95% CI[   3.40723,    3.41059]\n",
      "--------------------------------------------------------------------------------\n",
      "R^2: 0.99645\n",
      "================================================================================\n",
      "\n",
      "\n"
     ]
    }
   ],
   "source": [
    "# Set temperature to 25.00°C\n",
    "# (NOTE: Careful, this sets the temperature for all subsequent calculations)\n",
    "pyfolding.set_temperature(25.)\n",
    "\n",
    "# fit all the data automatically\n",
    "\n",
    "# first lets fit the equilibrium denaturations (we will be using the lists we defined above in cell [5])\n",
    "for c in Equilm_curves: \n",
    "    c.fit_func = models.TwoStateEquilibrium\n",
    "    c.fit(p0=[3, 2])  "
   ]
  },
  {
   "cell_type": "code",
   "execution_count": 6,
   "metadata": {
    "collapsed": false,
    "deletable": true,
    "editable": true
   },
   "outputs": [
    {
     "data": {
      "image/png": "[encoded data removed]",
      "text/plain": [
       "<matplotlib.figure.Figure at 0x7efc607cca10>"
      ]
     },
     "metadata": {},
     "output_type": "display_data"
    }
   ],
   "source": [
    "# Before we go further lets check everything looks good!\n",
    "\n",
    "# the following commands plot all the Equilm curves & fits on one plot\n",
    "\n",
    "plt.figure(figsize=(10,6))\n",
    "for c in Equilm_curves:\n",
    "    plt.plot(c.results.x_fit, c.results.y_fit, '-')\n",
    "for c in Equilm_curves:\n",
    "    plt.plot(c.x, c.y, '.')\n",
    "\n",
    "# This is to make the plot look good!  \n",
    "\n",
    "plt.legend([c.ID for c in Equilm_curves], loc='best') # plots a legend & 'loc\" command determines where it goes.  \n",
    "plt.title(\"CI2 Equilm Denaturations\")                 # plots a title.\n",
    "plt.ylim([-0.1, 1.1])                                 # y axis from 0 to 8\n",
    "plt.xlim([0, 6])                                      # x axis from 0 to 5\n",
    "plt.show()    \n"
   ]
  },
  {
   "cell_type": "code",
   "execution_count": 9,
   "metadata": {
    "collapsed": false,
    "deletable": true,
    "editable": true
   },
   "outputs": [
    {
     "name": "stdout",
     "output_type": "stream",
     "text": [
      "================================================================================\n",
      "Fitting results\n",
      "================================================================================\n",
      "ID: CI2_WT_Kinetics\n",
      "Model: TwoStateChevron\n",
      "Optimiser: pyfolding.GlobalFit and scipy.optimize.curve_fit\n",
      "Temperature: 25.00°C\n",
      "\n",
      "(f) kf   57.74792 ± 3.94909    \t 95% CI[  56.77701,   58.71884]\n",
      "(f) mf    1.90608 ± 0.05316    \t 95% CI[   1.89301,    1.91915]\n",
      "(f) ku    0.00013 ± 0.00009    \t 95% CI[   0.00011,    0.00015]\n",
      "(f) mu    1.29050 ± 0.11853    \t 95% CI[   1.26136,    1.31965]\n",
      "--------------------------------------------------------------------------------\n",
      "R^2: 0.99939\n",
      "================================================================================\n",
      "\n",
      "\n",
      "================================================================================\n",
      "Fitting results\n",
      "================================================================================\n",
      "ID: CI2_VA38_Kinetics\n",
      "Model: TwoStateChevron\n",
      "Optimiser: pyfolding.GlobalFit and scipy.optimize.curve_fit\n",
      "Temperature: 25.00°C\n",
      "\n",
      "(f) kf   70.14623 ± 3.68538    \t 95% CI[  69.24225,   71.05021]\n",
      "(f) mf    1.81407 ± 0.03583    \t 95% CI[   1.80528,    1.82285]\n",
      "(f) ku    0.00037 ± 0.00017    \t 95% CI[   0.00032,    0.00041]\n",
      "(f) mu    1.37146 ± 0.07806    \t 95% CI[   1.35231,    1.39061]\n",
      "--------------------------------------------------------------------------------\n",
      "R^2: 0.99960\n",
      "================================================================================\n",
      "\n",
      "\n",
      "================================================================================\n",
      "Fitting results\n",
      "================================================================================\n",
      "ID: CI2_VA66_Kinetics\n",
      "Model: TwoStateChevron\n",
      "Optimiser: pyfolding.GlobalFit and scipy.optimize.curve_fit\n",
      "Temperature: 25.00°C\n",
      "\n",
      "(f) kf    9.26632 ± 0.53227    \t 95% CI[   9.13576,    9.39688]\n",
      "(f) mf    2.33134 ± 0.12004    \t 95% CI[   2.30190,    2.36079]\n",
      "(f) ku    0.04530 ± 0.01734    \t 95% CI[   0.04104,    0.04955]\n",
      "(f) mu    1.41589 ± 0.11910    \t 95% CI[   1.38668,    1.44511]\n",
      "--------------------------------------------------------------------------------\n",
      "R^2: 0.99325\n",
      "================================================================================\n",
      "\n",
      "\n",
      "================================================================================\n",
      "Fitting results\n",
      "================================================================================\n",
      "ID: CI2_IV48_Kinetics\n",
      "Model: TwoStateChevron\n",
      "Optimiser: pyfolding.GlobalFit and scipy.optimize.curve_fit\n",
      "Temperature: 25.00°C\n",
      "\n",
      "(f) kf    9.92141 ± 0.65828    \t 95% CI[   9.76145,   10.08136]\n",
      "(f) mf    2.50768 ± 0.11119    \t 95% CI[   2.48066,    2.53469]\n",
      "(f) ku    0.01212 ± 0.00316    \t 95% CI[   0.01135,    0.01289]\n",
      "(f) mu    1.11975 ± 0.06003    \t 95% CI[   1.10516,    1.13434]\n",
      "--------------------------------------------------------------------------------\n",
      "R^2: 0.99578\n",
      "================================================================================\n",
      "\n",
      "\n"
     ]
    }
   ],
   "source": [
    "# Now lets fit the kinetics\n",
    "for c in Kinetic_chevrons: \n",
    "    c.fit_func = models.TwoStateChevron\n",
    "    c.fit()"
   ]
  },
  {
   "cell_type": "code",
   "execution_count": 11,
   "metadata": {
    "collapsed": false,
    "deletable": true,
    "editable": true
   },
   "outputs": [
    {
     "data": {
      "image/png": "[encoded data removed]",
      "text/plain": [
       "<matplotlib.figure.Figure at 0x7efc5e6c9ad0>"
      ]
     },
     "metadata": {},
     "output_type": "display_data"
    }
   ],
   "source": [
    "# Before we go further lets check everything looks good!\n",
    "\n",
    "# the following commands plot all the kinetics on one plot\n",
    "plt.figure(figsize=(10,6))\n",
    "for c in Kinetic_chevrons:\n",
    "    plt.plot(c.results.x_fit, c.results.y_fit, '-')\n",
    "for c in Kinetic_chevrons:\n",
    "    plt.plot(c.x, c.y, '.')\n",
    "    \n",
    "# as before this is to make the plot look good!  \n",
    "\n",
    "plt.legend([c.ID for c in Kinetic_chevrons], loc='best')  # plots a legend & 'loc\" command determines where it goes.  \n",
    "plt.title(\"CI2\")                                          # plots a title.\n",
    "plt.ylim([-5, 5])                                         # y axis from 0 to 8\n",
    "plt.xlim([0, 7])                                          # x axis from 0 to 5\n",
    "plt.show()    \n",
    "\n",
    "  "
   ]
  },
  {
   "cell_type": "markdown",
   "metadata": {
    "deletable": true,
    "editable": true
   },
   "source": [
    "---\n",
    "\n",
    "### Now lets perform and automate some higher-level calculations such as ΔGs & Phi-value analysis :\n",
    "\n"
   ]
  },
  {
   "cell_type": "code",
   "execution_count": 12,
   "metadata": {
    "collapsed": false,
    "deletable": true,
    "editable": true
   },
   "outputs": [
    {
     "name": "stdout",
     "output_type": "stream",
     "text": [
      "7.43880166047\n"
     ]
    }
   ],
   "source": [
    "# Lets start with the free energy of unfolding (ΔGD-N) [calculated from the equilm m-value and midpoint] \n",
    "# we can get an individual values for each protein by calling up our protein objects we defined right at the start of this notebook {in cell (3)}  \n",
    "# Lets try it for WT\n",
    "\n",
    "print WT.deltaG\n",
    "\n"
   ]
  },
  {
   "cell_type": "code",
   "execution_count": 13,
   "metadata": {
    "collapsed": false,
    "deletable": true,
    "editable": true
   },
   "outputs": [
    {
     "name": "stdout",
     "output_type": "stream",
     "text": [
      "7.43880166047\n",
      "7.50095692618\n",
      "2.55121373848\n",
      "6.70638772946\n"
     ]
    }
   ],
   "source": [
    "# Now we can automate with the list we created at the start of this notebook {in cell (3)}\n",
    "# from the list in cell (3) the order should be: WT, VA38, IV48 & IA48\n",
    "\n",
    "for c in Proteins:\n",
    "    print c.deltaG"
   ]
  },
  {
   "cell_type": "code",
   "execution_count": 14,
   "metadata": {
    "collapsed": false,
    "deletable": true,
    "editable": true
   },
   "outputs": [
    {
     "name": "stdout",
     "output_type": "stream",
     "text": [
      "4.88758792199 0.354099722209\n"
     ]
    }
   ],
   "source": [
    "# We can also do caluclations on any of the data we have. Lets calculate some DDG values for VA66 \n",
    "\n",
    "# Stability change in water between VA66 and WT (i.e. DDG from Equilibrium curves)\n",
    "ddg = WT.deltaG - VA66.deltaG\n",
    "\n",
    "# Free Energy change between Denatured and Transition State between VA66 and WT (i.e. DDG from folding rates in water)\n",
    "\n",
    "ddts = constants.RT * np.log(WT.kf_H20 / VA66.kf_H20)\n",
    "\n",
    "print ddg, ddts\n"
   ]
  },
  {
   "cell_type": "code",
   "execution_count": 15,
   "metadata": {
    "collapsed": false,
    "deletable": true,
    "editable": true
   },
   "outputs": [
    {
     "name": "stdout",
     "output_type": "stream",
     "text": [
      "0.0724487677482\n"
     ]
    }
   ],
   "source": [
    "# Lets finish by calculating some Phi Values\n",
    "# we can get an individual value by calling up our protein objects we defined at the start of this notebook {in cell (3)}  \n",
    "# Lets try it for the mutant VA38\n",
    "\n",
    "from pyfolding.phi import phi\n",
    "        \n",
    "PhiValue = phi(WT,VA66)\n",
    "\n",
    "print PhiValue"
   ]
  },
  {
   "cell_type": "code",
   "execution_count": 16,
   "metadata": {
    "collapsed": false,
    "deletable": true,
    "editable": true
   },
   "outputs": [
    {
     "name": "stdout",
     "output_type": "stream",
     "text": [
      "CI2_VA38 --> Phi value: 0.45\n",
      "CI2_VA66 --> Phi value: 0.07\n",
      "CI2_IV48 --> Phi value: 0.46\n"
     ]
    }
   ],
   "source": [
    "# Now we can automate with the list we created also at the start of this notebook {in cell (3)}\n",
    "# from the list in cell (3) the order should be a Phi value for VA38, IV48 & IA48\n",
    "mut_proteins = Proteins[1:]\n",
    "\n",
    "for c in mut_proteins:\n",
    "    c_phi_value = phi(WT, c)\n",
    "    print \"{0:s} --> Phi value: {1:.2f}\".format(c.ID, c_phi_value)"
   ]
  },
  {
   "cell_type": "markdown",
   "metadata": {
    "deletable": true,
    "editable": true
   },
   "source": [
    "### As you can see this works.  YAY!\n",
    "\n",
    "#### However, the final Phi values are different from the original CI2 paper due to errors from digitizing the data.\n",
    "For example, VA38 - has a very small difference in stability from WT.  Thus when digitising this causes a large error in the reported Phi values.\n"
   ]
  },
  {
   "cell_type": "markdown",
   "metadata": {
    "collapsed": true,
    "deletable": true,
    "editable": true
   },
   "source": [
    "---\n",
    "\n",
    "### End of this Notebook.\n",
    "\n",
    "---"
   ]
  },
  {
   "cell_type": "code",
   "execution_count": null,
   "metadata": {
    "collapsed": true,
    "deletable": true,
    "editable": true
   },
   "outputs": [],
   "source": []
  }
 ],
 "metadata": {
  "kernelspec": {
   "display_name": "Python 2",
   "language": "python",
   "name": "python2"
  },
  "language_info": {
   "codemirror_mode": {
    "name": "ipython",
    "version": 2
   },
   "file_extension": ".py",
   "mimetype": "text/x-python",
   "name": "python",
   "nbconvert_exporter": "python",
   "pygments_lexer": "ipython2",
   "version": "2.7.13"
  }
 },
 "nbformat": 4,
 "nbformat_minor": 1
}
