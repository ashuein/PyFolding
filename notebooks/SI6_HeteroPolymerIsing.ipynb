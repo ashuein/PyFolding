{
 "cells": [
  {
   "cell_type": "markdown",
   "metadata": {
    "deletable": true,
    "editable": true
   },
   "source": [
    "# PyFolding SI Notebook 6\n",
    "---\n",
    "\n",
    "[Author] ERGM\n",
    "\n",
    "---\n",
    "\n",
    "## This is to fit Equilibrium Curves to Heteropolymer Ising Model ##\n",
    "\n",
    "In this notebook we will show how equilbrium folding data can be imported into a notebook and fitted to Heteropolymer Ising Model. \n",
    "\n",
    "If you are less script/computer orientated, you can simply change the data paths and other parameters for your proteins and re-run the jupyter notebook ( \"Kernal/Restart & Run all\" from the menu above).\n",
    "\n",
    "\n",
    "\n",
    "## Data Format\n",
    "\n",
    "Please see PyFolding SI Notebooks 1 and 2 for the format your data has to be in to enable this type of analysis.\n",
    "Remember for Ising Model Analysis here each protein dataset (equilibrium denaturation curve) must have its own .csv\n",
    "\n",
    "---\n",
    "\n",
    "#### First off lets load pyfolding & pyplot into this ipython notebook (pyplot allows us to plot more complex figures of our results):"
   ]
  },
  {
   "cell_type": "code",
   "execution_count": 1,
   "metadata": {
    "collapsed": false,
    "deletable": true,
    "editable": true
   },
   "outputs": [
    {
     "data": {
      "application/javascript": [
       "\n",
       "\tIPython.OutputArea.prototype._should_scroll = function(lines) {\n",
       "\t    return false;\n",
       "\t}\n",
       "\t"
      ],
      "text/plain": [
       "<IPython.core.display.Javascript object>"
      ]
     },
     "metadata": {},
     "output_type": "display_data"
    },
    {
     "name": "stdout",
     "output_type": "stream",
     "text": [
      "PyFolding: Jupyter autoscrolling has been disabled\n"
     ]
    }
   ],
   "source": [
    "# use this command to tell Jupyter to plot figures inline with the text\n",
    "%matplotlib inline\n",
    "\n",
    "# import pyfolding, the pyfolding models and ising models\n",
    "import pyfolding\n",
    "from pyfolding import models, ising\n",
    "\n",
    "# import the package for plotting, call it plt\n",
    "import matplotlib.pyplot as plt"
   ]
  },
  {
   "cell_type": "markdown",
   "metadata": {
    "deletable": true,
    "editable": true
   },
   "source": [
    "---\n",
    "\n",
    "#### Now, we need to load some data to analyse.\n",
    "\n",
    "I will import the equilibrium denaturation curves of a series of CTPRn variants proteins taken from:\n",
    "\n",
    "```\n",
    "Millership C., Phillips J.J. & Main E.R.G. (2016) “Ising model reprogramming of a repeat protein’s equilibrium unfolding pathway.” Journal of Molecular Biology, 428 (9A), 1804-1817.\n",
    "```\n",
    "\n",
    "I will load 12 denaturation curves (two repeats of each expt) that correspond to the following proteins:\n",
    "\n",
    "Protein        |Filename              |No. of Helices |Truncation\n",
    ":--------:     |:-------:             |:-------:      |:-------:\n",
    "CTPR2$\\Delta$A | CTPR2APhos1_10C.csv  |  4            |N-Terminal helix removed\n",
    "CTPR2$\\Delta$A | CTPR2APhos2_10C.csv  |  4            |N-Terminal helix removed\n",
    "CTPR2$\\Delta$S | CTPR2SPhos1_10C.csv  |  4            |C-Terminal helix removed\n",
    "CTPR2$\\Delta$S | CTPR2SPhos2_10C.csv  |  4            |C-Terminal helix removed\n",
    "CTPR2          | CTPR2Phos1_10C.csv   |  5            |none\n",
    "CTPR2          | CTPR2Phos1_10C.csv   |  5            |none\n",
    "CTPR3$\\Delta$A | CTPR3APhos1_10C.csv  |  6            |N-Terminal helix removed\n",
    "CTPR3$\\Delta$A | CTPR3APhos2_10C.csv  |  6            |N-Terminal helix removed\n",
    "CTPR3$\\Delta$S | CTPR3SPhos1_10C.csv  |  6            |C-Terminal helix removed\n",
    "CTPR3$\\Delta$S | CTPR3SPhos2_10C.csv  |  6            |C-Terminal helix removed\n",
    "CTPR3          | CTPR3Phos1_10C.csv   |  7            |none\n",
    "CTPR3          | CTPR3Phos1_10C.csv   |  7            |none\n"
   ]
  },
  {
   "cell_type": "code",
   "execution_count": 2,
   "metadata": {
    "collapsed": true,
    "deletable": true,
    "editable": true
   },
   "outputs": [],
   "source": [
    "# start by loading a data set\n",
    "# arguments are \"path\", \"filename\"\n",
    "pth = \"../examples/CTPRn\" \n",
    "CTPR2A1 = pyfolding.read_equilibrium_data(pth,\"CTPR2APhos1_10C.csv\")\n",
    "CTPR2A2 = pyfolding.read_equilibrium_data(pth,\"CTPR2APhos2_10C.csv\")\n",
    "CTPR2S1= pyfolding.read_equilibrium_data(pth,\"CTPR2SPhos1_10C.csv\")\n",
    "CTPR2S2 = pyfolding.read_equilibrium_data(pth,\"CTPR2SPhos2_10C.csv\")\n",
    "CTPR2_1= pyfolding.read_equilibrium_data(pth,\"CTPR2Phos1_10C.csv\")\n",
    "CTPR2_2 = pyfolding.read_equilibrium_data(pth,\"CTPR2Phos2_10C.csv\")\n",
    "CTPR3A1 = pyfolding.read_equilibrium_data(pth,\"CTPR3APhos1_10C.csv\")\n",
    "CTPR3A2 = pyfolding.read_equilibrium_data(pth,\"CTPR3APhos2_10C.csv\")\n",
    "CTPR3S1 = pyfolding.read_equilibrium_data(pth,\"CTPR3SPhos1_10C.csv\")\n",
    "CTPR3S2 = pyfolding.read_equilibrium_data(pth,\"CTPR3SPhos2_10C.csv\")\n",
    "CTPR3_1 = pyfolding.read_equilibrium_data(pth,\"CTPR3Phos1_10C.csv\")\n",
    "CTPR3_2 = pyfolding.read_equilibrium_data(pth,\"CTPR3Phos2_10C.csv\")\n",
    "\n",
    "# make a python list of the data\n",
    "curves = [CTPR2A1,CTPR2A2,CTPR2S1,CTPR2S2,CTPR2_1,CTPR2_2,CTPR3A1,CTPR3A2,CTPR3S1,CTPR3S2, CTPR3_1, CTPR3_2]"
   ]
  },
  {
   "cell_type": "code",
   "execution_count": 3,
   "metadata": {
    "collapsed": false,
    "deletable": true,
    "editable": true
   },
   "outputs": [
    {
     "name": "stdout",
     "output_type": "stream",
     "text": [
      "Set temperature to 10.00°C\n",
      "(NOTE: Careful, this sets the temperature for all subsequent calculations)\n"
     ]
    }
   ],
   "source": [
    "# set the temperature to 10 degrees C\n",
    "\n",
    "pyfolding.set_temperature(10.0)"
   ]
  },
  {
   "cell_type": "code",
   "execution_count": 4,
   "metadata": {
    "collapsed": false,
    "deletable": true,
    "editable": true
   },
   "outputs": [
    {
     "data": {
      "image/png": "[encoded data removed]",
      "text/plain": [
       "<matplotlib.figure.Figure at 0x10a98b910>"
      ]
     },
     "metadata": {},
     "output_type": "display_data"
    }
   ],
   "source": [
    "# Lets check everything was loaded correctly by plotting all the data curves on one plot\n",
    "\n",
    "plt.figure(figsize=(10,6))\n",
    "for c in curves:\n",
    "    plt.plot(c.x, c.y, '.')\n",
    "\n",
    "# the following commands plot all the data curves on one plot, where \"loc\" command determines where the legend goes.  \n",
    "plt.legend([c.ID for c in curves], loc='best')\n",
    "plt.title(\"CTPR Equilm Curves\")\n",
    "plt.show()\n"
   ]
  },
  {
   "cell_type": "markdown",
   "metadata": {
    "deletable": true,
    "editable": true
   },
   "source": [
    "### Fitting to a Heteropolymer Ising model\n",
    "We need to define a topology for each protein, this is essentially the domains of the protein in order (N->C)"
   ]
  },
  {
   "cell_type": "markdown",
   "metadata": {
    "deletable": true,
    "editable": true
   },
   "source": [
    "#### Protein topology can be defined via the following Ising motifs\n",
    "\n",
    " Module              | Abbreviation | Defined in Ising as \n",
    "-----------------    | :----------: | --------------------\n",
    "Module, type 1       | r            | RepeatDomain         \n",
    "Module, type 2       | Mr           | MutantRepeatDomain   \n",
    "Module, type 3       | h            | HelixDomain          \n",
    "Module, type 4       | l            | LoopDomain           \n",
    "Module, type 5       | Ml           | MutantLoopDomain       \n",
    "Cap Module           | c            | CapDomain            \n",
    "Mut. Cap Module      | Mc           | MutantCapDomain\n",
    "Decoupled Cap Domain | DC           | DecoupleCapDomain\n",
    "\n",
    "All modules functions are identical, except for the Decoupled Cap Domain and Cap domains. \n",
    "1. The Decoupled Cap domain has been coded such that the there is no interface energy between itself and any domain N-terminal to it.  \n",
    "2. Cap domains are essentially identical to the other domains, except for clarity their interface energy term (G_ij) is not displayed when used in fitting. They should only be used at the C-terminus.\n",
    "\n",
    "With regards to the other domains, you simply use them to define different modules present in your protein. The nomenclature stems from our various CTPR proteins analysis, as their repeated motifs can be defined in terms of either repeated TPRs, repeated helices and/or loops. \n",
    "\n",
    "##### Each motif is defined as having:\n",
    "1. an intrinisic stability term for each module (Gi)\n",
    "2. a denaturation dependence term (m_i) - which is associated with Gi\n",
    "3. an interface energy term (G_ij) - defined as the interaction between folded units i and i+1, i.e. the interface of the i unit with the unit C terminal to it (i+1).\n",
    "4. The Ising model automatically takes into account the C-terminal repeat does not have an interface term {ij} associated with it.\n",
    "\n",
    "##### Except:\n",
    "1. the Cap Motifs/Domains (Cap + Mutant Cap) do not print their interface term {ij} for clarity.\n",
    "2. Thus the Cap domain should only be used when you have a C-terminal deletion.\n",
    "3. The Decoupled Cap Domain do not use an interface term (hence \"decoupled\")\n",
    "\n",
    "#####  Lets list the motifs already present in the Ising model to check that the above is correct!"
   ]
  },
  {
   "cell_type": "code",
   "execution_count": 5,
   "metadata": {
    "collapsed": false,
    "deletable": true,
    "editable": true
   },
   "outputs": [
    {
     "data": {
      "text/plain": [
       "['CapDomain',\n",
       " 'DecoupleCapDomain',\n",
       " 'HelixDomain',\n",
       " 'LoopDomain',\n",
       " 'MutantCapDomain',\n",
       " 'MutantLoopDomain',\n",
       " 'MutantRepeatDomain',\n",
       " 'RepeatDomain']"
      ]
     },
     "execution_count": 5,
     "metadata": {},
     "output_type": "execute_result"
    }
   ],
   "source": [
    "# This command lists the motifs already present in the Ising model.\n",
    "ising.list_models()"
   ]
  },
  {
   "cell_type": "markdown",
   "metadata": {
    "deletable": true,
    "editable": true
   },
   "source": [
    "---\n",
    "#### Lets define shorthand for Ising modules:\n",
    "\n",
    "r = ising.RepeatDomain\n",
    "Mr = ising.MutantRepeatDomain\n",
    "c = ising.CapDomain\n",
    "Mc = ising.MutantCapDomain\n",
    "l = ising.LoopDomain\n",
    "Ml = ising.MutantLoopDomain\n",
    "\n",
    "#### With the CTPR dataset above we can code in the following example topologies:\n",
    "\n",
    "Here the N and C terminii helices as defined as \"caps\" and the internal helices as the same:\n",
    "A. topology1 = [[r,r,Mr,c], [l,r,r,r], [l,r,r,Mr,c], [r,r,r,r,Mr,c], [l,r,r,r,r,r], [l,r,r,r,r,Mr,c]]\n",
    "\n",
    "Here A and B helices of each repeat are different, as are N and C terminii helices\n",
    "B. topology2 = [[r,r,r,c], [l,r,r,r], [l,r,r,r,c], [r,r,r,r,r,c], [l,r,r,r,r,r], [l,r,r,r,r,r,c]]\n",
    "\n",
    "Here A and B helices of each repeat are different, as are N and C terminii helices\n",
    "C. topology3 = [[h,r,h,c], [r,h,r,h], [r,h,r,h,c], [h,r,h,r,h,c], [r,h,r,h,r,h], [r,h,r,h,r,h,c]]\n",
    "\n",
    "\n",
    "\n",
    "Where the order of proteins is CTPR2-A, CTPR2-S, CTPR2, CTPR3-A, CTPR3-S, CTPR3 \n",
    "\n"
   ]
  },
  {
   "cell_type": "code",
   "execution_count": 6,
   "metadata": {
    "collapsed": false,
    "deletable": true,
    "editable": true
   },
   "outputs": [
    {
     "ename": "NameError",
     "evalue": "global name 'IsingDomain' is not defined",
     "output_type": "error",
     "traceback": [
      "\u001b[0;31m---------------------------------------------------------------------------\u001b[0m",
      "\u001b[0;31mNameError\u001b[0m                                 Traceback (most recent call last)",
      "\u001b[0;32m<ipython-input-6-8894e1b9b9b6>\u001b[0m in \u001b[0;36m<module>\u001b[0;34m()\u001b[0m\n\u001b[1;32m     17\u001b[0m \u001b[0;34m\u001b[0m\u001b[0m\n\u001b[1;32m     18\u001b[0m \u001b[0;31m# plot them either in an expanded form\u001b[0m\u001b[0;34m\u001b[0m\u001b[0;34m\u001b[0m\u001b[0m\n\u001b[0;32m---> 19\u001b[0;31m \u001b[0mising\u001b[0m\u001b[0;34m.\u001b[0m\u001b[0mplot_domains\u001b[0m\u001b[0;34m(\u001b[0m\u001b[0mtopology1\u001b[0m\u001b[0;34m,\u001b[0m \u001b[0mcollapse\u001b[0m\u001b[0;34m=\u001b[0m\u001b[0mFalse\u001b[0m\u001b[0;34m,\u001b[0m \u001b[0msave\u001b[0m\u001b[0;34m=\u001b[0m\u001b[0;34m\"/Users/ergm/Desktop/domain1.pdf\"\u001b[0m\u001b[0;34m)\u001b[0m\u001b[0;34m\u001b[0m\u001b[0m\n\u001b[0m\u001b[1;32m     20\u001b[0m \u001b[0;34m\u001b[0m\u001b[0m\n\u001b[1;32m     21\u001b[0m \u001b[0;31m# or in a collapsed form\u001b[0m\u001b[0;34m\u001b[0m\u001b[0;34m\u001b[0m\u001b[0m\n",
      "\u001b[0;32m/Users/ergm/anaconda/lib/python2.7/site-packages/pyfolding/plotting.pyc\u001b[0m in \u001b[0;36mplot_domains\u001b[0;34m(topologies, labels, collapse, **kwargs)\u001b[0m\n\u001b[1;32m    356\u001b[0m         \u001b[0;31m# not. If they are already instantiated, then we need to recover the\u001b[0m\u001b[0;34m\u001b[0m\u001b[0;34m\u001b[0m\u001b[0m\n\u001b[1;32m    357\u001b[0m         \u001b[0;31m# underlying classes...\u001b[0m\u001b[0;34m\u001b[0m\u001b[0;34m\u001b[0m\u001b[0m\n\u001b[0;32m--> 358\u001b[0;31m         \u001b[0;32mif\u001b[0m \u001b[0misinstance\u001b[0m\u001b[0;34m(\u001b[0m\u001b[0mtopologies\u001b[0m\u001b[0;34m[\u001b[0m\u001b[0;36m0\u001b[0m\u001b[0;34m]\u001b[0m\u001b[0;34m[\u001b[0m\u001b[0;36m0\u001b[0m\u001b[0;34m]\u001b[0m\u001b[0;34m,\u001b[0m \u001b[0mIsingDomain\u001b[0m\u001b[0;34m)\u001b[0m\u001b[0;34m:\u001b[0m\u001b[0;34m\u001b[0m\u001b[0m\n\u001b[0m\u001b[1;32m    359\u001b[0m                 \u001b[0mtmp_topologies\u001b[0m \u001b[0;34m=\u001b[0m \u001b[0;34m[\u001b[0m\u001b[0;34m]\u001b[0m\u001b[0;34m\u001b[0m\u001b[0m\n\u001b[1;32m    360\u001b[0m                 \u001b[0;32mfor\u001b[0m \u001b[0mt\u001b[0m \u001b[0;32min\u001b[0m \u001b[0mtopologies\u001b[0m\u001b[0;34m:\u001b[0m\u001b[0;34m\u001b[0m\u001b[0m\n",
      "\u001b[0;31mNameError\u001b[0m: global name 'IsingDomain' is not defined"
     ]
    }
   ],
   "source": [
    "#Define shorthand for Ising modules:\n",
    "r = ising.RepeatDomain\n",
    "h = ising.HelixDomain\n",
    "Mr = ising.MutantRepeatDomain\n",
    "c = ising.CapDomain\n",
    "Mc = ising.MutantCapDomain\n",
    "l = ising.LoopDomain\n",
    "Ml = ising.MutantLoopDomain\n",
    "\n",
    "#lets try topology A first, but need to add in double as two curves of each protein\n",
    "topology1 = [[r,r,Mr,c],[r,r,Mr,c], \n",
    "             [h,r,r,r], [h,r,r,r],\n",
    "             [h,r,r,Mr,c], [h,r,r,Mr,c],\n",
    "             [r,r,r,r,Mr,c], [r,r,r,r,Mr,c],\n",
    "             [h,r,r,r,r,r],[h,r,r,r,r,r], \n",
    "             [h,r,r,r,r,Mr,c], [h,r,r,r,r,Mr,c]]\n",
    "\n",
    "# plot them either in an expanded form\n",
    "ising.plot_domains(topology1, collapse=False, save=\"/Users/ergm/Desktop/domain1.pdf\")\n",
    "\n",
    "# or in a collapsed form\n",
    "ising.plot_domains(topology1, collapse=True, save=\"/Users/ergm/Desktop/domain2.pdf\")\n",
    "\n",
    "# NOTE: You can save the domain image by using the save keyword like this:\n",
    "# ising.plot_domains([topology], collapse=True, save=\"/Users/ubcg83a/Desktop/domains.pdf\")"
   ]
  },
  {
   "cell_type": "code",
   "execution_count": null,
   "metadata": {
    "collapsed": true,
    "deletable": true,
    "editable": true,
    "scrolled": false
   },
   "outputs": [],
   "source": [
    "# note: popsize is the population size for the optimiser (bigger means more likelihood of reaching global optimum)\n",
    "# start with a popsize of 10, increase to 100-1000 for better fits:\n",
    "# curves defines the data you will fit, topologies define what it fits to\n",
    "# ising.fit_heteropolymer(curves, topologies, popsize=10)\n",
    "\n",
    "# for example, let's just fit the CTPRn datasets to topology 1:\n",
    "\n",
    "ising.fit_heteropolymer(curves[0:12], topology1[0:12], popsize=10, maxiter= 10000, save=\"/Users/ergm/Desktop/FitResults\")\n",
    "\n",
    "\n"
   ]
  },
  {
   "cell_type": "code",
   "execution_count": null,
   "metadata": {
    "collapsed": true,
    "deletable": true,
    "editable": true,
    "scrolled": false
   },
   "outputs": [],
   "source": [
    "#Now do Topology 2\n",
    "topology2 = [[r,r,r,c],[r,r,r,c], \n",
    "             [h,r,r,r], [h,r,r,r],\n",
    "             [h,r,r,r,c], [h,r,r,r,c],\n",
    "             [r,r,r,r,r,c], [r,r,r,r,r,c],\n",
    "             [h,r,r,r,r,r],[h,r,r,r,r,r], \n",
    "             [h,r,r,r,r,r,c], [h,r,r,r,r,r,c]]\n",
    "\n",
    "#Fit\n",
    "ising.fit_heteropolymer(curves[0:12], topology2[0:12], popsize=10, maxiter= 10000, save=\"/Users/ergm/Desktop/FitResults\")\n",
    "\n"
   ]
  },
  {
   "cell_type": "code",
   "execution_count": null,
   "metadata": {
    "collapsed": true,
    "deletable": true,
    "editable": true,
    "scrolled": false
   },
   "outputs": [],
   "source": [
    "#Now do Topology 3\n",
    "topology3 = [[h,r,h,c], [h,r,h,c],\n",
    "              [r,h,r,h], [r,h,r,h],\n",
    "              [r,h,r,h,c], [r,h,r,h,c],\n",
    "              [h,r,h,r,h,c], [h,r,h,r,h,c],\n",
    "              [r,h,r,h,r,h], [r,h,r,h,r,h],\n",
    "              [r,h,r,h,r,h,c], [r,h,r,h,r,h,c]]\n",
    "\n",
    "#fit\n",
    "ising.fit_heteropolymer(curves[0:12], topology3[0:12], popsize=10, maxiter= 10000, \n",
    "                        save=\"/Users/ergm/Desktop/FitResults\")"
   ]
  },
  {
   "cell_type": "markdown",
   "metadata": {
    "collapsed": true,
    "deletable": true,
    "editable": true
   },
   "source": [
    "---\n",
    "\n",
    "### End of this Notebook.\n",
    "\n",
    "---"
   ]
  },
  {
   "cell_type": "code",
   "execution_count": null,
   "metadata": {
    "collapsed": true,
    "deletable": true,
    "editable": true
   },
   "outputs": [],
   "source": []
  }
 ],
 "metadata": {
  "kernelspec": {
   "display_name": "Python 2",
   "language": "python",
   "name": "python2"
  },
  "language_info": {
   "codemirror_mode": {
    "name": "ipython",
    "version": 2
   },
   "file_extension": ".py",
   "mimetype": "text/x-python",
   "name": "python",
   "nbconvert_exporter": "python",
   "pygments_lexer": "ipython2",
   "version": "2.7.6"
  }
 },
 "nbformat": 4,
 "nbformat_minor": 1
}
