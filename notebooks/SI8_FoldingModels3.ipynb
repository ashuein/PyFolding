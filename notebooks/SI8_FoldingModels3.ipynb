{
 "cells": [
  {
   "cell_type": "markdown",
   "metadata": {},
   "source": [
    "# PyFolding SI Notebook 8\n",
    "---\n",
    "\n",
    "[Author] ERGM\n",
    "\n",
    "---\n",
    "\n",
    "## This is to fit Equilibrium Curves from a dimeric protein to dimeric equilibrium models ##\n",
    "\n",
    "In this notebook we will show how equilbrium folding data from dimeric proteins can be imported into a notebook and fitted to dimeric Equilibrium denaturation models. \n",
    "\n",
    "If you are less script/computer orientated, you can simply change the data paths and other parameters for your proteins and re-run the jupyter notebook ( \"Kernal/Restart & Run all\" from the menu above).\n",
    "\n",
    "\n",
    "\n",
    "## Data Format\n",
    "\n",
    "Please see PyFolding SI Notebooks 1 and 2 for the format your data has to be in to enable this type of analysis.\n",
    "Remember for Ising Model Analysis here each protein dataset (equilibrium denaturation curve) must have its own .csv\n",
    "\n",
    "---\n",
    "\n",
    "#### First off lets load pyfolding & pyplot into this ipython notebook (pyplot allows us to plot more complex figures of our results):"
   ]
  },
  {
   "cell_type": "code",
   "execution_count": 1,
   "metadata": {},
   "outputs": [
    {
     "data": {
      "application/javascript": [
       "\n",
       "\tIPython.OutputArea.prototype._should_scroll = function(lines) {\n",
       "\t    return false;\n",
       "\t}\n",
       "\t"
      ],
      "text/plain": [
       "<IPython.core.display.Javascript object>"
      ]
     },
     "metadata": {},
     "output_type": "display_data"
    },
    {
     "name": "stdout",
     "output_type": "stream",
     "text": [
      "PyFolding: Jupyter autoscrolling has been disabled\n"
     ]
    }
   ],
   "source": [
    "# use this command to tell Jupyter to plot figures inline with the text\n",
    "%matplotlib inline\n",
    "\n",
    "# import pyfolding, the pyfolding models and ising models\n",
    "import pyfolding\n",
    "from pyfolding import *\n",
    "\n",
    "# import the package for plotting, call it plt\n",
    "import matplotlib.pyplot as plt\n",
    "\n",
    "# import numpy as well\n",
    "import numpy as np"
   ]
  },
  {
   "cell_type": "markdown",
   "metadata": {},
   "source": [
    "---\n",
    "\n",
    "#### Now, we need to load some data to analyse.\n",
    "\n",
    "I will import the equilibrium denaturations of dimeric tr-LcrH at a series of protein concentrations from:\n",
    "\n",
    "`Singh S.K., Boyle A.L. & Main E.R. (2013) “LcrH, a class II chaperone from the type three secretion system, has a highly flexible native structure.” J Biol Chem., 288, (6) 4048-55.`\n",
    "\n",
    "I will load 4 denaturation curves that correspond tr-LcrH at the following protein concentrations:\n",
    "\n",
    "Protein     |Filename     |Total Protein Concentration\n",
    ":--------:  |:-------:    |:-------:\n",
    "tr-LcrH     | 50uM_1.csv  |  50 uM\n",
    "tr-LcrH     | 50uM_2.csv  |  50 uM\n",
    "tr-LcrH     | 80uM_1.csv  |  80 uM\n",
    "tr-LcrH     | 80uM_2.csv  |  80 uM\n",
    "\n"
   ]
  },
  {
   "cell_type": "code",
   "execution_count": 2,
   "metadata": {},
   "outputs": [],
   "source": [
    "# we will load all of the data together, as follows:\n",
    "\n",
    "# arguments are \"path\", \"filename\"\n",
    "pth = \"../examples/LcrH\"\n",
    "\n",
    "#this is a set of commands to automate loading the data for each denaturation \n",
    "fn = [\"50uM_1.csv\",\"50uM_2.csv\",\"80uM_1.csv\",\"80uM_2.csv\"]\n",
    "\n",
    "#Here we are loading all the curves in a list called \"proteins\" and assigning them names\n",
    "proteins = [pyfolding.read_equilibrium_data(pth,f) for f in fn] \n",
    "\n",
    "# also store the total protein conentration for each denaturation\n",
    "Pt = [50, 50, 80, 80]"
   ]
  },
  {
   "cell_type": "code",
   "execution_count": 3,
   "metadata": {},
   "outputs": [
    {
     "name": "stdout",
     "output_type": "stream",
     "text": [
      "Set temperature to 25.00°C\n",
      "(NOTE: Careful, this sets the temperature for all subsequent calculations)\n"
     ]
    }
   ],
   "source": [
    "# Set temperature to 25.00°C\n",
    "# (NOTE: Careful, this sets the temperature for all subsequent calculations)\n",
    "pyfolding.set_temperature(25.)"
   ]
  },
  {
   "cell_type": "code",
   "execution_count": 4,
   "metadata": {},
   "outputs": [
    {
     "data": {
      "image/png": "[encoded data removed]",
      "text/plain": [
       "<matplotlib.figure.Figure at 0x10fc10a10>"
      ]
     },
     "metadata": {},
     "output_type": "display_data"
    }
   ],
   "source": [
    "# the following commands plot all the data curves on one plot\n",
    "\n",
    "plt.figure(figsize=(10,6))    \n",
    "for c in proteins:          \n",
    "    plt.plot(c.x, c.y, '.')\n",
    "\n",
    "# the following commands plot all the data curves on one plot, where \"loc\" command determines where the legend goes.  \n",
    "plt.legend([c.ID for c in proteins], loc='best')\n",
    "plt.title(\"LcrH Equilm Curves\")\n",
    "plt.xlim([0, 8])                                              # x axis from 0 to 8\n",
    "plt.show()\n",
    "\n"
   ]
  },
  {
   "cell_type": "code",
   "execution_count": 5,
   "metadata": {},
   "outputs": [
    {
     "data": {
      "text/plain": [
       "[('CurvedChevronPolynomialFit', 'Verified: True'),\n",
       " ('HeteropolymerIsingEquilibrium', 'Verified: False'),\n",
       " ('HomozipperIsingEquilibrium', 'Verified: True'),\n",
       " ('ParallelTwoStateChevron', 'Verified: False'),\n",
       " ('ParallelTwoStateUnfoldingChevron', 'Verified: False'),\n",
       " ('TemplateModel', 'Verified: False'),\n",
       " ('ThreeStateChevron', 'Verified: True'),\n",
       " ('ThreeStateDimericIEquilibrium', 'Verified: True'),\n",
       " ('ThreeStateEquilibrium', 'Verified: True'),\n",
       " ('ThreeStateFastPhaseChevron', 'Verified: True'),\n",
       " ('ThreeStateMonoIEquilibrium', 'Verified: True'),\n",
       " ('ThreeStateSequentialChevron', 'Verified: True'),\n",
       " ('TwoStateChevron', 'Verified: True'),\n",
       " ('TwoStateChevronMovingTransition', 'Verified: True'),\n",
       " ('TwoStateDimerEquilibrium', 'Verified: True'),\n",
       " ('TwoStateEquilibrium', 'Verified: True'),\n",
       " ('TwoStateEquilibriumSloping', 'Verified: True')]"
      ]
     },
     "execution_count": 5,
     "metadata": {},
     "output_type": "execute_result"
    }
   ],
   "source": [
    "# Command imports pyfolding models\n",
    "from pyfolding.models import *\n",
    "\n",
    "# command lists models\n",
    "list_models()\n",
    "\n",
    "# After the model name:\n",
    "#'Verified: True' signifies that we have tested the model and it functions as expected.\n",
    "#'Verified:False' signifies that the model has not been tested.\n",
    "    "
   ]
  },
  {
   "cell_type": "code",
   "execution_count": 8,
   "metadata": {},
   "outputs": [
    {
     "data": {
      "text/latex": [
       "$$\\begin{equation} \\\n",
       "\t\t\t\t\\begin{aligned} \\\n",
       "\t\t\t\t& \\Upsilon_{rel} = \\Upsilon_N F_N + \\Upsilon_I F_I + \\Upsilon_D F_D \\\\ \\\n",
       "\t\t\t\t\\text{expanded:} \\\\ \\\n",
       "\t\t\t\t& \\Upsilon_{rel} = \\Upsilon_N \\cdot \\frac{2PtF_I^2} {K_1} + \\Upsilon_I F_I + \\Upsilon_D * K_2F_I \\\\ \\\n",
       "\t\t\t\t\\\\ \\\n",
       "\t\t\t\t\\text{where:} \\\\ \\\n",
       "\t\t\t\t& F_I = \\frac {- K_1 (1+K_2) + \\sqrt(K_1^2 (1+K_2)^2 + (8 Pt K_1))} {4Pt} \\\\ \\\n",
       "\t\t\t\t& K_1 = \\exp \\frac{-\\Delta G_{H_20}^1 + m_1 x} {RT} \\\\ \\\n",
       "\t\t\t\t& K_2 = \\exp \\frac{-\\Delta G_{H_20}^2 + m_2 x} {RT}\\\n",
       "\t\t\t\t\\end{aligned}\\\n",
       "\t\t\t\t\\end{equation}$$"
      ],
      "text/plain": [
       "<IPython.core.display.Math object>"
      ]
     },
     "metadata": {},
     "output_type": "display_data"
    },
    {
     "name": "stdout",
     "output_type": "stream",
     "text": [
      " Three State model for a dimer denaturation Equilibrium - Monomeric intermediate.\n",
      "\n",
      "\tFolding Scheme:\n",
      "\t\tN2 = I2 = 2D\n",
      "\n",
      "\tParams:\n",
      "\t\tY_rel = spectroscopic signal at a given concentration of urea\n",
      "\t\tY_N = spectroscopic signal for native state\n",
      "\t\tY_D = spectroscopic signal for denatured state\n",
      "\t\tY_I = spectroscopic signal for intermediate state\n",
      "\t\tF_D = fraction denatured monomers\n",
      "\t\tF_N = fraction native dimers\n",
      "\t\tF_I = fraction intermediate dimers\n",
      "\t\tPt = total protein concentration. This variable needs to be set per denaturation curve.\n",
      "\t\tK1 = equilibrium constant of unfolding for native to intermediate state\n",
      "\t\tK2 = equilibrium constant of unfolding for intermediate to denatured state\n",
      "\t\tDG1 = stability of native state relative to intermediate state\n",
      "\t\tm1 = m-value of native to intermediate transition\n",
      "\t\tDG2 = stability of intermediate state relative to denatured state\n",
      "\t\tm2 = m-value of intermediate to denatured transition\n",
      "\t\tx = denaturant concentration (M)\n",
      "\t\tR = Universal Gas Constant (kcal.mol-1.K-1)\n",
      "\t\tT = Temperature (Kelvin)\n",
      "\n",
      "\tReference:\n",
      "\t\tMallam and Jackson. Folding studies on a knotted protein.\n",
      "\t\tJournal of Molecular Biology (2005) vol. 346 (5) pp. 1409-1421\n",
      "\t\n"
     ]
    }
   ],
   "source": [
    "# We are going to fit this data to 3 state denaturation that unfolds via a dimeric intermediate (as per the J.B.C. paper)\n",
    "# Lets print the equation & Info\n",
    "\n",
    "models.ThreeStateMonoIEquilibrium().info()"
   ]
  },
  {
   "cell_type": "markdown",
   "metadata": {},
   "source": [
    "### Automatic global fitting to the homozipper model\n",
    "\n",
    "We will try to fit this with the homozipper model to get the parameters"
   ]
  },
  {
   "cell_type": "code",
   "execution_count": null,
   "metadata": {},
   "outputs": [],
   "source": [
    "# try with a one-liner where we also save out the curve fits\n",
    "r_homo = ising.fit_homopolymer(proteins, n_helices, save='/Users/ergm/Desktop/test.csv')"
   ]
  },
  {
   "cell_type": "markdown",
   "metadata": {
    "collapsed": true
   },
   "source": [
    "---\n",
    "\n",
    "### End of this Notebook.\n",
    "\n",
    "---"
   ]
  },
  {
   "cell_type": "code",
   "execution_count": null,
   "metadata": {
    "collapsed": true
   },
   "outputs": [],
   "source": []
  }
 ],
 "metadata": {
  "kernelspec": {
   "display_name": "Python 2",
   "language": "python",
   "name": "python2"
  },
  "language_info": {
   "codemirror_mode": {
    "name": "ipython",
    "version": 2
   },
   "file_extension": ".py",
   "mimetype": "text/x-python",
   "name": "python",
   "nbconvert_exporter": "python",
   "pygments_lexer": "ipython2",
   "version": "2.7.13"
  }
 },
 "nbformat": 4,
 "nbformat_minor": 1
}
